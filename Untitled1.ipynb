{
 "cells": [
  {
   "cell_type": "code",
   "execution_count": null,
   "id": "f808d324-8a88-4eaa-abfd-94504ff59839",
   "metadata": {},
   "outputs": [],
   "source": []
  }
 ],
 "metadata": {
  "kernelspec": {
   "display_name": "Python 3 on cluster-9a5a (Remote)",
   "language": "python",
   "name": "73c9b25e91294dc63298a7ef-python3"
  },
  "language_info": {
   "codemirror_mode": {
    "name": "ipython",
    "version": 3
   },
   "file_extension": ".py",
   "mimetype": "text/x-python",
   "name": "python",
   "nbconvert_exporter": "python",
   "pygments_lexer": "ipython3",
   "version": "3.10.8"
  }
 },
 "nbformat": 4,
 "nbformat_minor": 5
}
