{
 "cells": [
  {
   "cell_type": "code",
   "execution_count": null,
   "id": "38e7ed69-8ed7-453d-9708-cbe490cef286",
   "metadata": {},
   "outputs": [],
   "source": []
  }
 ],
 "metadata": {
  "kernelspec": {
   "display_name": "service-meta1 on Serverless Spark (Remote)",
   "language": "python",
   "name": "9c39b79e5d2e7072beb4bd59-runtime-0000695cbc45"
  },
  "language_info": {
   "name": ""
  }
 },
 "nbformat": 4,
 "nbformat_minor": 5
}
